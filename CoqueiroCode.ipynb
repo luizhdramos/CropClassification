{
 "cells": [
  {
   "cell_type": "markdown",
   "id": "9ffb1295",
   "metadata": {},
   "source": [
    "### Importação de Biblioteca"
   ]
  },
  {
   "cell_type": "code",
   "execution_count": 1,
   "id": "badf6d6d",
   "metadata": {},
   "outputs": [],
   "source": [
    "import os, random\n",
    "random.seed(2)\n",
    "import numpy as np\n",
    "from pyrsgis import raster\n",
    "from pyrsgis.ml import imageChipsFromFile\n",
    "\n",
    "import tensorflow as tf\n",
    "from sklearn.utils import resample\n",
    "from tensorflow import keras\n",
    "from tensorflow.keras.layers import Dense, Conv2D, Dropout, Flatten\n",
    "from sklearn.metrics import confusion_matrix, precision_score, recall_score, f1_score, ConfusionMatrixDisplay\n",
    "import matplotlib.pyplot as plt\n",
    "\n",
    "\n",
    "import math\n",
    "\n",
    "from IPython.core.display import HTML\n",
    "from pretty_confusion_matrix import pp_matrix_from_data"
   ]
  },
  {
   "cell_type": "code",
   "execution_count": null,
   "id": "4bde084b",
   "metadata": {},
   "outputs": [],
   "source": []
  },
  {
   "cell_type": "code",
   "execution_count": null,
   "id": "1d627769",
   "metadata": {},
   "outputs": [],
   "source": []
  },
  {
   "cell_type": "markdown",
   "id": "a48fd282",
   "metadata": {},
   "source": [
    "### Modificando design do jupyter Notebook"
   ]
  },
  {
   "cell_type": "code",
   "execution_count": 2,
   "id": "965f86ad",
   "metadata": {},
   "outputs": [
    {
     "data": {
      "text/html": [
       "<style>.container {width:100% !important;}</style>"
      ],
      "text/plain": [
       "<IPython.core.display.HTML object>"
      ]
     },
     "metadata": {},
     "output_type": "display_data"
    }
   ],
   "source": [
    "def jupyter_settings():\n",
    "    display(HTML('<style>.container {width:100% !important;}</style>'))\n",
    "jupyter_settings()"
   ]
  },
  {
   "cell_type": "code",
   "execution_count": null,
   "id": "cfcac278",
   "metadata": {},
   "outputs": [],
   "source": []
  },
  {
   "cell_type": "code",
   "execution_count": null,
   "id": "cbbc630f",
   "metadata": {},
   "outputs": [],
   "source": []
  },
  {
   "cell_type": "markdown",
   "id": "0f47191b",
   "metadata": {},
   "source": [
    "# ------------------------------------------------\n",
    "# --------(Criando Chips de Imagem)--------\n",
    "# ------------------------------------------------"
   ]
  },
  {
   "cell_type": "markdown",
   "id": "49c9b7de",
   "metadata": {},
   "source": [
    "### Váriaveis - Criando Chips de Imagem"
   ]
  },
  {
   "cell_type": "code",
   "execution_count": 13,
   "id": "bb6e7997",
   "metadata": {},
   "outputs": [],
   "source": [
    "chipSize = 19\n",
    "featuresName = 'CNN_' + str(chipSize) + 'by' + str(chipSize) + '_features.npy'\n",
    "labelsName = 'CNN_' + str(chipSize) + 'by' + str(chipSize) + '_labels.npy'"
   ]
  },
  {
   "cell_type": "markdown",
   "id": "5e3aae60",
   "metadata": {},
   "source": [
    "### Change the working directory"
   ]
  },
  {
   "cell_type": "code",
   "execution_count": 14,
   "id": "85109169",
   "metadata": {},
   "outputs": [],
   "source": [
    "output_directory = r\"/Users/luizramos/Repos/CNN - Deep Learning sensoreamento remoto/Data\"\n",
    "os.chdir(output_directory)"
   ]
  },
  {
   "cell_type": "markdown",
   "id": "5a4275d7",
   "metadata": {},
   "source": [
    "### define the file names"
   ]
  },
  {
   "cell_type": "code",
   "execution_count": 15,
   "id": "ee63f81c",
   "metadata": {},
   "outputs": [],
   "source": [
    "feature_file = r\"ImagemVIG.tif\"\n",
    "label_file = r\"ImagemRotulada_qgis.tif\""
   ]
  },
  {
   "cell_type": "markdown",
   "id": "290b89a8",
   "metadata": {},
   "source": [
    "### create feature chips using pyrsgis"
   ]
  },
  {
   "cell_type": "code",
   "execution_count": 16,
   "id": "12fbf259",
   "metadata": {},
   "outputs": [
    {
     "name": "stdout",
     "output_type": "stream",
     "text": [
      "ImagemVIG.tif\n"
     ]
    }
   ],
   "source": [
    "features = imageChipsFromFile(feature_file, x_size=chipSize, y_size=chipSize)\n",
    "print(feature_file)\n",
    "features = np.rollaxis(features, 3, 1)"
   ]
  },
  {
   "cell_type": "markdown",
   "id": "4bfd11ff",
   "metadata": {},
   "source": [
    "### read the label file and reshape it"
   ]
  },
  {
   "cell_type": "code",
   "execution_count": 18,
   "id": "8f8ba414",
   "metadata": {},
   "outputs": [],
   "source": [
    "ds, labels = raster.read(label_file)\n",
    "labels = labels.flatten()"
   ]
  },
  {
   "cell_type": "markdown",
   "id": "db02860b",
   "metadata": {},
   "source": [
    "### print basic details"
   ]
  },
  {
   "cell_type": "code",
   "execution_count": 19,
   "id": "7190305b",
   "metadata": {},
   "outputs": [
    {
     "name": "stdout",
     "output_type": "stream",
     "text": [
      "Input features shape: (3554838, 4, 19, 19)\n",
      "\n",
      "Input labels shape: (3554838,)\n",
      "Values in input features, min: 0 & max: 255\n",
      "Values in input labels, min: 0 & max: 1\n"
     ]
    }
   ],
   "source": [
    "print('Input features shape:', features.shape)\n",
    "print('\\nInput labels shape:', labels.shape)\n",
    "print('Values in input features, min: %d & max: %d' % (features.min(), features.max()))\n",
    "print('Values in input labels, min: %d & max: %d' % (labels.min(), labels.max()))"
   ]
  },
  {
   "cell_type": "markdown",
   "id": "17b04970",
   "metadata": {},
   "source": [
    "### Save the arrays as .npy files"
   ]
  },
  {
   "cell_type": "code",
   "execution_count": 20,
   "id": "f6c354ce",
   "metadata": {},
   "outputs": [],
   "source": [
    "np.save(featuresName, features)\n",
    "np.save(labelsName, labels)"
   ]
  },
  {
   "cell_type": "markdown",
   "id": "770e57b4",
   "metadata": {},
   "source": [
    "# ------------------------------------------------\n",
    "# -------------(Treinando Modelo)------------\n",
    "# ------------------------------------------------"
   ]
  },
  {
   "cell_type": "markdown",
   "id": "7dc71fd0",
   "metadata": {},
   "source": [
    "### Variáveis - Treinando Modelo"
   ]
  },
  {
   "cell_type": "code",
   "execution_count": 35,
   "id": "ecb7487f",
   "metadata": {},
   "outputs": [],
   "source": [
    "chipSize = 19\n",
    "epochsNumber = 100\n",
    "batchsize = 512\n",
    "#samples = 20000\n",
    "featuresName = 'CNN_' + str(chipSize) + 'by' + str(chipSize) + '_features.npy'\n",
    "labelsName = 'CNN_' + str(chipSize) + 'by' + str(chipSize) + '_labels.npy'\n",
    "trainedModelDir = '1_trained_models_' + str(chipSize) + 'by' + str(chipSize) + '_' + str(epochsNumber) + 'Epochs' + '_' + str(batchsize) + 'batchsize'\n",
    "modelFile = trainedModelDir + '/200409_CNN_Builtup_' + str(chipSize)+ 'by' + str(chipSize) +'_' + str(epochsNumber) + 'Epochs_PScore%.3f_RScore%.3f_FScore%.3f.h5'\n"
   ]
  },
  {
   "cell_type": "markdown",
   "id": "6a95d324",
   "metadata": {},
   "source": [
    "### Change the working directory"
   ]
  },
  {
   "cell_type": "code",
   "execution_count": 36,
   "id": "d9d5d629",
   "metadata": {},
   "outputs": [],
   "source": [
    "output_directory = r\"/Users/luizramos/Repos/CNN - Deep Learning sensoreamento remoto/Data\"\n",
    "os.chdir(output_directory)"
   ]
  },
  {
   "cell_type": "code",
   "execution_count": null,
   "id": "7d7d3364",
   "metadata": {},
   "outputs": [],
   "source": []
  },
  {
   "cell_type": "code",
   "execution_count": null,
   "id": "ca6ae570",
   "metadata": {},
   "outputs": [],
   "source": []
  },
  {
   "cell_type": "markdown",
   "id": "fedb9f43",
   "metadata": {},
   "source": [
    "### Load arrays from .npy files"
   ]
  },
  {
   "cell_type": "code",
   "execution_count": 5,
   "id": "8179e4e0",
   "metadata": {},
   "outputs": [],
   "source": [
    "features = np.load(featuresName)\n",
    "labels = np.load(labelsName)"
   ]
  },
  {
   "cell_type": "code",
   "execution_count": null,
   "id": "4a7901c7",
   "metadata": {},
   "outputs": [],
   "source": []
  },
  {
   "cell_type": "markdown",
   "id": "25822ac5",
   "metadata": {},
   "source": [
    "### Separate and balance the classes"
   ]
  },
  {
   "cell_type": "code",
   "execution_count": 6,
   "id": "4b20d80f",
   "metadata": {},
   "outputs": [
    {
     "name": "stdout",
     "output_type": "stream",
     "text": [
      "Number of records in each class:\n",
      "Built: 354680, Unbuilt: 354680\n"
     ]
    }
   ],
   "source": [
    "built_features = features[labels==1]\n",
    "built_labels = labels[labels==1]\n",
    "\n",
    "unbuilt_features = features[labels==0][:int(built_labels.shape[0])]\n",
    "unbuilt_labels = labels[labels==0][:int(built_labels.shape[0])]\n",
    "\n",
    "print('Number of records in each class:')\n",
    "print('Built: %d, Unbuilt: %d' % (built_labels.shape[0], unbuilt_labels.shape[0]))"
   ]
  },
  {
   "cell_type": "markdown",
   "id": "ea866d85",
   "metadata": {},
   "source": [
    "### Downsample the majority class"
   ]
  },
  {
   "cell_type": "code",
   "execution_count": 7,
   "id": "3fd3be6f",
   "metadata": {},
   "outputs": [
    {
     "name": "stdout",
     "output_type": "stream",
     "text": [
      "Number of records in balanced classes:\n",
      "Built: 354680, Unbuilt: 354680\n"
     ]
    }
   ],
   "source": [
    "unbuilt_features = resample(unbuilt_features,\n",
    "                            replace = False, # sample without replacement\n",
    "                            n_samples = built_features.shape[0], # match minority n\n",
    "                            random_state = 2)\n",
    "\n",
    "unbuilt_labels = resample(unbuilt_labels,\n",
    "                          replace = False, # sample without replacement\n",
    "                          n_samples = built_features.shape[0], # match minority n\n",
    "                          random_state = 2)\n",
    "\n",
    "print('Number of records in balanced classes:')\n",
    "print('Built: %d, Unbuilt: %d' % (built_labels.shape[0], unbuilt_labels.shape[0]))"
   ]
  },
  {
   "cell_type": "markdown",
   "id": "7b067a79",
   "metadata": {},
   "source": [
    "### Combine the balanced features"
   ]
  },
  {
   "cell_type": "code",
   "execution_count": 8,
   "id": "7e8eb06f",
   "metadata": {},
   "outputs": [],
   "source": [
    "features = np.concatenate((built_features, unbuilt_features), axis=0)\n",
    "labels = np.concatenate((built_labels, unbuilt_labels), axis=0)"
   ]
  },
  {
   "cell_type": "markdown",
   "id": "fbd9096d",
   "metadata": {},
   "source": [
    "### Normalise the features"
   ]
  },
  {
   "cell_type": "code",
   "execution_count": 9,
   "id": "2aea77f0",
   "metadata": {},
   "outputs": [
    {
     "name": "stdout",
     "output_type": "stream",
     "text": [
      "New values in input features, min: 0 & max: 1\n"
     ]
    }
   ],
   "source": [
    "features = features / 255.0\n",
    "print('New values in input features, min: %d & max: %d' % (features.min(), features.max()))"
   ]
  },
  {
   "cell_type": "markdown",
   "id": "3b862847",
   "metadata": {},
   "source": [
    "### Define the function to split features and labels"
   ]
  },
  {
   "cell_type": "code",
   "execution_count": 11,
   "id": "a8d781e7",
   "metadata": {},
   "outputs": [],
   "source": [
    "def train_test_split(features, labels, trainProp=0.6):\n",
    "    dataSize = features.shape[0]\n",
    "    sliceIndex = int(dataSize*trainProp)\n",
    "    randIndex = np.arange(dataSize)\n",
    "    random.shuffle(randIndex)\n",
    "    train_x = features[[randIndex[:sliceIndex]], :, :, :][0]\n",
    "    test_x = features[[randIndex[sliceIndex:]], :, :, :][0]\n",
    "    train_y = labels[randIndex[:sliceIndex]]\n",
    "    test_y = labels[randIndex[sliceIndex:]]\n",
    "    return(train_x, train_y, test_x, test_y)"
   ]
  },
  {
   "cell_type": "markdown",
   "id": "11de05e4",
   "metadata": {},
   "source": [
    "### Call the function to split the data"
   ]
  },
  {
   "cell_type": "code",
   "execution_count": 12,
   "id": "aad6b2d1",
   "metadata": {},
   "outputs": [],
   "source": [
    "train_x, train_y, test_x, test_y = train_test_split(features, labels)"
   ]
  },
  {
   "cell_type": "markdown",
   "id": "e2dab000",
   "metadata": {},
   "source": [
    "### Transpose the features to channel last format"
   ]
  },
  {
   "cell_type": "code",
   "execution_count": 13,
   "id": "84ef2260",
   "metadata": {},
   "outputs": [
    {
     "name": "stdout",
     "output_type": "stream",
     "text": [
      "Metal device set to: Apple M1 Pro\n"
     ]
    },
    {
     "name": "stderr",
     "output_type": "stream",
     "text": [
      "2022-07-11 09:50:48.347069: I tensorflow/core/common_runtime/pluggable_device/pluggable_device_factory.cc:305] Could not identify NUMA node of platform GPU ID 0, defaulting to 0. Your kernel may not have been built with NUMA support.\n",
      "2022-07-11 09:50:48.347482: I tensorflow/core/common_runtime/pluggable_device/pluggable_device_factory.cc:271] Created TensorFlow device (/job:localhost/replica:0/task:0/device:GPU:0 with 0 MB memory) -> physical PluggableDevice (device: 0, name: METAL, pci bus id: <undefined>)\n"
     ]
    },
    {
     "name": "stdout",
     "output_type": "stream",
     "text": [
      "Reshaped features: (425616, 19, 19, 4) (283744, 19, 19, 4)\n"
     ]
    }
   ],
   "source": [
    "train_x = tf.transpose(train_x, [0, 2, 3, 1])\n",
    "test_x = tf.transpose(test_x, [0, 2, 3, 1])\n",
    "print('Reshaped features:', train_x.shape, test_x.shape)\n",
    "_, rowSize, colSize, nBands = train_x.shape\n"
   ]
  },
  {
   "cell_type": "code",
   "execution_count": 26,
   "id": "c857fcd8",
   "metadata": {},
   "outputs": [
    {
     "data": {
      "text/plain": [
       "204267"
      ]
     },
     "execution_count": 26,
     "metadata": {},
     "output_type": "execute_result"
    }
   ],
   "source": []
  },
  {
   "cell_type": "markdown",
   "id": "46577469",
   "metadata": {},
   "source": [
    "### Create a model"
   ]
  },
  {
   "cell_type": "code",
   "execution_count": 37,
   "id": "4a1871bd",
   "metadata": {},
   "outputs": [],
   "source": [
    "model = keras.Sequential()\n",
    "model.add(Conv2D(32, kernel_size=1, padding='valid', activation='relu', input_shape=(chipSize, chipSize, nBands)))\n",
    "model.add(Dropout(0.25))\n",
    "model.add(Conv2D(48, kernel_size=1, padding='valid', activation='relu'))\n",
    "model.add(Dropout(0.25))\n",
    "model.add(Conv2D(48, kernel_size=1, padding='valid', activation='relu'))\n",
    "model.add(Dropout(0.25))\n",
    "model.add(Conv2D(48, kernel_size=1, padding='valid', activation='relu'))\n",
    "model.add(Dropout(0.25))\n",
    "model.add(Flatten())\n",
    "model.add(Dense(64, activation='relu'))\n",
    "model.add(Dropout(0.5))\n",
    "model.add(Dense(2, activation='softmax'))"
   ]
  },
  {
   "cell_type": "code",
   "execution_count": null,
   "id": "28146eef",
   "metadata": {},
   "outputs": [],
   "source": []
  },
  {
   "cell_type": "markdown",
   "id": "e82f61e6",
   "metadata": {},
   "source": [
    "### Run the model"
   ]
  },
  {
   "cell_type": "code",
   "execution_count": 38,
   "id": "2af6ac9a",
   "metadata": {},
   "outputs": [
    {
     "name": "stdout",
     "output_type": "stream",
     "text": [
      "Epoch 1/100\n"
     ]
    },
    {
     "name": "stderr",
     "output_type": "stream",
     "text": [
      "2022-07-11 10:30:45.652422: I tensorflow/core/grappler/optimizers/custom_graph_optimizer_registry.cc:113] Plugin optimizer for device_type GPU is enabled.\n"
     ]
    },
    {
     "name": "stdout",
     "output_type": "stream",
     "text": [
      "707/707 [==============================] - ETA: 0s - loss: 0.6504 - accuracy: 0.5490"
     ]
    },
    {
     "name": "stderr",
     "output_type": "stream",
     "text": [
      "2022-07-11 10:31:55.794167: I tensorflow/core/grappler/optimizers/custom_graph_optimizer_registry.cc:113] Plugin optimizer for device_type GPU is enabled.\n"
     ]
    },
    {
     "name": "stdout",
     "output_type": "stream",
     "text": [
      "707/707 [==============================] - 73s 103ms/step - loss: 0.6504 - accuracy: 0.5490 - val_loss: 0.6932 - val_accuracy: 0.4975\n",
      "Epoch 2/100\n",
      "707/707 [==============================] - 73s 103ms/step - loss: 0.6372 - accuracy: 0.5555 - val_loss: 0.6932 - val_accuracy: 0.5025\n",
      "Epoch 3/100\n",
      "707/707 [==============================] - 73s 103ms/step - loss: 0.6344 - accuracy: 0.5555 - val_loss: 0.6931 - val_accuracy: 0.5025\n",
      "Epoch 4/100\n",
      "707/707 [==============================] - 73s 103ms/step - loss: 0.6321 - accuracy: 0.5568 - val_loss: 0.6931 - val_accuracy: 0.4975\n",
      "Epoch 5/100\n",
      "707/707 [==============================] - 72s 102ms/step - loss: 0.6306 - accuracy: 0.5560 - val_loss: 0.6932 - val_accuracy: 0.4975\n",
      "Epoch 6/100\n",
      "707/707 [==============================] - 72s 102ms/step - loss: 0.6290 - accuracy: 0.5583 - val_loss: 0.6932 - val_accuracy: 0.4975\n",
      "Epoch 7/100\n",
      "707/707 [==============================] - 72s 102ms/step - loss: 0.6282 - accuracy: 0.5578 - val_loss: 0.6931 - val_accuracy: 0.5025\n",
      "Epoch 8/100\n",
      "707/707 [==============================] - 72s 101ms/step - loss: 0.6274 - accuracy: 0.5585 - val_loss: 0.6931 - val_accuracy: 0.5025\n",
      "Epoch 9/100\n",
      "707/707 [==============================] - 72s 102ms/step - loss: 0.6265 - accuracy: 0.5577 - val_loss: 0.6931 - val_accuracy: 0.5025\n",
      "Epoch 10/100\n",
      "707/707 [==============================] - 72s 102ms/step - loss: 0.6263 - accuracy: 0.5594 - val_loss: 0.6932 - val_accuracy: 0.4975\n",
      "Epoch 11/100\n",
      "707/707 [==============================] - 72s 102ms/step - loss: 0.6258 - accuracy: 0.5601 - val_loss: 0.6931 - val_accuracy: 0.5025\n",
      "Epoch 12/100\n",
      "707/707 [==============================] - 72s 102ms/step - loss: 0.6248 - accuracy: 0.5600 - val_loss: 0.6932 - val_accuracy: 0.4975\n",
      "Epoch 13/100\n",
      "707/707 [==============================] - 72s 102ms/step - loss: 0.6247 - accuracy: 0.5599 - val_loss: 0.6931 - val_accuracy: 0.4975\n",
      "Epoch 14/100\n",
      "707/707 [==============================] - 72s 102ms/step - loss: 0.6241 - accuracy: 0.5592 - val_loss: 0.6932 - val_accuracy: 0.4975\n",
      "Epoch 15/100\n",
      "707/707 [==============================] - 72s 102ms/step - loss: 0.6240 - accuracy: 0.5595 - val_loss: 0.6932 - val_accuracy: 0.4975\n",
      "Epoch 16/100\n",
      "707/707 [==============================] - 72s 101ms/step - loss: 0.6232 - accuracy: 0.5603 - val_loss: 0.6932 - val_accuracy: 0.4975\n",
      "Epoch 17/100\n",
      "707/707 [==============================] - 72s 101ms/step - loss: 0.6228 - accuracy: 0.5596 - val_loss: 0.6932 - val_accuracy: 0.4975\n",
      "Epoch 18/100\n",
      "707/707 [==============================] - 72s 102ms/step - loss: 0.6226 - accuracy: 0.5595 - val_loss: 0.6932 - val_accuracy: 0.4975\n",
      "Epoch 19/100\n",
      "707/707 [==============================] - 73s 103ms/step - loss: 0.6221 - accuracy: 0.5599 - val_loss: 0.6932 - val_accuracy: 0.4975\n",
      "Epoch 20/100\n",
      "707/707 [==============================] - 72s 102ms/step - loss: 0.6213 - accuracy: 0.5615 - val_loss: 0.6931 - val_accuracy: 0.5025\n",
      "Epoch 21/100\n",
      "707/707 [==============================] - 75s 106ms/step - loss: 0.6211 - accuracy: 0.5607 - val_loss: 0.6931 - val_accuracy: 0.5025\n",
      "Epoch 22/100\n",
      "707/707 [==============================] - 74s 105ms/step - loss: 0.6207 - accuracy: 0.5619 - val_loss: 0.6932 - val_accuracy: 0.4975\n",
      "Epoch 23/100\n",
      "707/707 [==============================] - 74s 105ms/step - loss: 0.6204 - accuracy: 0.5611 - val_loss: 0.6931 - val_accuracy: 0.5025\n",
      "Epoch 24/100\n",
      "707/707 [==============================] - 74s 105ms/step - loss: 0.6205 - accuracy: 0.5617 - val_loss: 0.6931 - val_accuracy: 0.5025\n",
      "Epoch 25/100\n",
      "707/707 [==============================] - 74s 105ms/step - loss: 0.6198 - accuracy: 0.5607 - val_loss: 0.6932 - val_accuracy: 0.4975\n",
      "Epoch 26/100\n",
      "707/707 [==============================] - 74s 105ms/step - loss: 0.6196 - accuracy: 0.5623 - val_loss: 0.6931 - val_accuracy: 0.5025\n",
      "Epoch 27/100\n",
      "707/707 [==============================] - 74s 105ms/step - loss: 0.6194 - accuracy: 0.5618 - val_loss: 0.6931 - val_accuracy: 0.4975\n",
      "Epoch 28/100\n",
      "707/707 [==============================] - 74s 105ms/step - loss: 0.6187 - accuracy: 0.5612 - val_loss: 0.6931 - val_accuracy: 0.5025\n",
      "Epoch 29/100\n",
      "707/707 [==============================] - 74s 105ms/step - loss: 0.6188 - accuracy: 0.5625 - val_loss: 0.6932 - val_accuracy: 0.4975\n",
      "Epoch 30/100\n",
      "707/707 [==============================] - 75s 106ms/step - loss: 0.6185 - accuracy: 0.5611 - val_loss: 0.6931 - val_accuracy: 0.5025\n",
      "Epoch 31/100\n",
      "707/707 [==============================] - 75s 105ms/step - loss: 0.6183 - accuracy: 0.5613 - val_loss: 0.6932 - val_accuracy: 0.4975\n",
      "Epoch 32/100\n",
      "707/707 [==============================] - 75s 106ms/step - loss: 0.6181 - accuracy: 0.5626 - val_loss: 0.6931 - val_accuracy: 0.5025\n",
      "Epoch 33/100\n",
      "707/707 [==============================] - 76s 107ms/step - loss: 0.6176 - accuracy: 0.5621 - val_loss: 0.6931 - val_accuracy: 0.5025\n",
      "Epoch 34/100\n",
      "707/707 [==============================] - 75s 106ms/step - loss: 0.6173 - accuracy: 0.5621 - val_loss: 0.6932 - val_accuracy: 0.4975\n",
      "Epoch 35/100\n",
      "707/707 [==============================] - 73s 104ms/step - loss: 0.6169 - accuracy: 0.5623 - val_loss: 0.6931 - val_accuracy: 0.5025\n",
      "Epoch 36/100\n",
      "707/707 [==============================] - 74s 104ms/step - loss: 0.6164 - accuracy: 0.5627 - val_loss: 0.6932 - val_accuracy: 0.4975\n",
      "Epoch 37/100\n",
      "707/707 [==============================] - 73s 103ms/step - loss: 0.6165 - accuracy: 0.5629 - val_loss: 0.6931 - val_accuracy: 0.5025\n",
      "Epoch 38/100\n",
      "707/707 [==============================] - 73s 104ms/step - loss: 0.6167 - accuracy: 0.5627 - val_loss: 0.6931 - val_accuracy: 0.5025\n",
      "Epoch 39/100\n",
      "707/707 [==============================] - 73s 104ms/step - loss: 0.6163 - accuracy: 0.5623 - val_loss: 0.6931 - val_accuracy: 0.5025\n",
      "Epoch 40/100\n",
      "707/707 [==============================] - 73s 104ms/step - loss: 0.6163 - accuracy: 0.5611 - val_loss: 0.6932 - val_accuracy: 0.5025\n",
      "Epoch 41/100\n",
      "707/707 [==============================] - 74s 105ms/step - loss: 0.6157 - accuracy: 0.5630 - val_loss: 0.6931 - val_accuracy: 0.5025\n",
      "Epoch 42/100\n",
      "707/707 [==============================] - 74s 104ms/step - loss: 0.6155 - accuracy: 0.5630 - val_loss: 0.6931 - val_accuracy: 0.5025\n",
      "Epoch 43/100\n",
      "707/707 [==============================] - 73s 103ms/step - loss: 0.6152 - accuracy: 0.5643 - val_loss: 0.6932 - val_accuracy: 0.4975\n",
      "Epoch 44/100\n",
      "707/707 [==============================] - 73s 103ms/step - loss: 0.6153 - accuracy: 0.5627 - val_loss: 0.6931 - val_accuracy: 0.5025\n",
      "Epoch 45/100\n",
      "707/707 [==============================] - 73s 103ms/step - loss: 0.6147 - accuracy: 0.5626 - val_loss: 0.6932 - val_accuracy: 0.4975\n",
      "Epoch 46/100\n",
      "707/707 [==============================] - 73s 103ms/step - loss: 0.6150 - accuracy: 0.5631 - val_loss: 0.6931 - val_accuracy: 0.5025\n",
      "Epoch 47/100\n",
      "707/707 [==============================] - 73s 103ms/step - loss: 0.6146 - accuracy: 0.5637 - val_loss: 0.6932 - val_accuracy: 0.4975\n",
      "Epoch 48/100\n",
      "707/707 [==============================] - 73s 103ms/step - loss: 0.6143 - accuracy: 0.5639 - val_loss: 0.6931 - val_accuracy: 0.5025\n",
      "Epoch 49/100\n",
      "707/707 [==============================] - 73s 103ms/step - loss: 0.6141 - accuracy: 0.5640 - val_loss: 0.6931 - val_accuracy: 0.4975\n",
      "Epoch 50/100\n",
      "707/707 [==============================] - 73s 103ms/step - loss: 0.6137 - accuracy: 0.5646 - val_loss: 0.6931 - val_accuracy: 0.5025\n",
      "Epoch 51/100\n",
      "707/707 [==============================] - 73s 103ms/step - loss: 0.6140 - accuracy: 0.5625 - val_loss: 0.6931 - val_accuracy: 0.5025\n",
      "Epoch 52/100\n",
      "707/707 [==============================] - 73s 103ms/step - loss: 0.6136 - accuracy: 0.5637 - val_loss: 0.6932 - val_accuracy: 0.5025\n",
      "Epoch 53/100\n",
      "707/707 [==============================] - 73s 103ms/step - loss: 0.6135 - accuracy: 0.5638 - val_loss: 0.6931 - val_accuracy: 0.5025\n",
      "Epoch 54/100\n",
      "707/707 [==============================] - 73s 103ms/step - loss: 0.6135 - accuracy: 0.5636 - val_loss: 0.6931 - val_accuracy: 0.5025\n",
      "Epoch 55/100\n",
      "707/707 [==============================] - 73s 103ms/step - loss: 0.6130 - accuracy: 0.5633 - val_loss: 0.6931 - val_accuracy: 0.5025\n",
      "Epoch 56/100\n",
      "707/707 [==============================] - 73s 104ms/step - loss: 0.6127 - accuracy: 0.5643 - val_loss: 0.6932 - val_accuracy: 0.4975\n"
     ]
    },
    {
     "name": "stdout",
     "output_type": "stream",
     "text": [
      "Epoch 57/100\n",
      "707/707 [==============================] - 72s 102ms/step - loss: 0.6125 - accuracy: 0.5631 - val_loss: 0.6931 - val_accuracy: 0.5025\n",
      "Epoch 58/100\n",
      "707/707 [==============================] - 72s 102ms/step - loss: 0.6126 - accuracy: 0.5641 - val_loss: 0.6931 - val_accuracy: 0.5025\n",
      "Epoch 59/100\n",
      "707/707 [==============================] - 74s 105ms/step - loss: 0.6124 - accuracy: 0.5634 - val_loss: 0.6931 - val_accuracy: 0.5025\n",
      "Epoch 60/100\n",
      "707/707 [==============================] - 74s 104ms/step - loss: 0.6122 - accuracy: 0.5639 - val_loss: 0.6932 - val_accuracy: 0.4975\n",
      "Epoch 61/100\n",
      "707/707 [==============================] - 74s 105ms/step - loss: 0.6120 - accuracy: 0.5643 - val_loss: 0.6932 - val_accuracy: 0.4975\n",
      "Epoch 62/100\n",
      "707/707 [==============================] - 74s 105ms/step - loss: 0.6123 - accuracy: 0.5644 - val_loss: 0.6931 - val_accuracy: 0.5025\n",
      "Epoch 63/100\n",
      "707/707 [==============================] - 74s 105ms/step - loss: 0.6124 - accuracy: 0.5635 - val_loss: 0.6932 - val_accuracy: 0.4975\n",
      "Epoch 64/100\n",
      "707/707 [==============================] - 74s 105ms/step - loss: 0.6115 - accuracy: 0.5643 - val_loss: 0.6931 - val_accuracy: 0.5025\n",
      "Epoch 65/100\n",
      "707/707 [==============================] - 74s 105ms/step - loss: 0.6112 - accuracy: 0.5652 - val_loss: 0.6931 - val_accuracy: 0.5025\n",
      "Epoch 66/100\n",
      "707/707 [==============================] - 74s 104ms/step - loss: 0.6115 - accuracy: 0.5646 - val_loss: 0.6931 - val_accuracy: 0.5025\n",
      "Epoch 67/100\n",
      "707/707 [==============================] - 74s 105ms/step - loss: 0.6114 - accuracy: 0.5656 - val_loss: 0.6932 - val_accuracy: 0.4975\n",
      "Epoch 68/100\n",
      "707/707 [==============================] - 74s 105ms/step - loss: 0.6112 - accuracy: 0.5642 - val_loss: 0.6931 - val_accuracy: 0.5025\n",
      "Epoch 69/100\n",
      "707/707 [==============================] - 74s 105ms/step - loss: 0.6112 - accuracy: 0.5649 - val_loss: 0.6931 - val_accuracy: 0.5025\n",
      "Epoch 70/100\n",
      "707/707 [==============================] - 75s 106ms/step - loss: 0.6106 - accuracy: 0.5648 - val_loss: 0.6931 - val_accuracy: 0.5025\n",
      "Epoch 71/100\n",
      "707/707 [==============================] - 74s 105ms/step - loss: 0.6108 - accuracy: 0.5643 - val_loss: 0.6931 - val_accuracy: 0.5025\n",
      "Epoch 72/100\n",
      "707/707 [==============================] - 74s 104ms/step - loss: 0.6107 - accuracy: 0.5644 - val_loss: 0.6931 - val_accuracy: 0.5025\n",
      "Epoch 73/100\n",
      "707/707 [==============================] - 74s 104ms/step - loss: 0.6105 - accuracy: 0.5664 - val_loss: 0.6931 - val_accuracy: 0.5025\n",
      "Epoch 74/100\n",
      "707/707 [==============================] - 74s 105ms/step - loss: 0.6106 - accuracy: 0.5647 - val_loss: 0.6931 - val_accuracy: 0.5025\n",
      "Epoch 75/100\n",
      "707/707 [==============================] - 74s 104ms/step - loss: 0.6099 - accuracy: 0.5646 - val_loss: 0.6932 - val_accuracy: 0.4975\n",
      "Epoch 76/100\n",
      "707/707 [==============================] - 74s 105ms/step - loss: 0.6101 - accuracy: 0.5643 - val_loss: 0.6931 - val_accuracy: 0.5025\n",
      "Epoch 77/100\n",
      "707/707 [==============================] - 74s 105ms/step - loss: 0.6103 - accuracy: 0.5650 - val_loss: 0.6931 - val_accuracy: 0.5025\n",
      "Epoch 78/100\n",
      "707/707 [==============================] - 74s 105ms/step - loss: 0.6101 - accuracy: 0.5651 - val_loss: 0.6932 - val_accuracy: 0.4975\n",
      "Epoch 79/100\n",
      "707/707 [==============================] - 74s 105ms/step - loss: 0.6098 - accuracy: 0.5650 - val_loss: 0.6932 - val_accuracy: 0.4975\n",
      "Epoch 80/100\n",
      "707/707 [==============================] - 74s 105ms/step - loss: 0.6100 - accuracy: 0.5646 - val_loss: 0.6932 - val_accuracy: 0.4975\n",
      "Epoch 81/100\n",
      "707/707 [==============================] - 75s 106ms/step - loss: 0.6096 - accuracy: 0.5659 - val_loss: 0.6931 - val_accuracy: 0.5025\n",
      "Epoch 82/100\n",
      "707/707 [==============================] - 74s 104ms/step - loss: 0.6104 - accuracy: 0.5651 - val_loss: 0.6931 - val_accuracy: 0.4975\n",
      "Epoch 83/100\n",
      "707/707 [==============================] - 74s 104ms/step - loss: 0.6096 - accuracy: 0.5654 - val_loss: 0.6932 - val_accuracy: 0.4975\n",
      "Epoch 84/100\n",
      "707/707 [==============================] - 74s 104ms/step - loss: 0.6096 - accuracy: 0.5644 - val_loss: 0.6931 - val_accuracy: 0.5025\n",
      "Epoch 85/100\n",
      "707/707 [==============================] - 74s 104ms/step - loss: 0.6101 - accuracy: 0.5641 - val_loss: 0.6932 - val_accuracy: 0.4975\n",
      "Epoch 86/100\n",
      "707/707 [==============================] - 74s 104ms/step - loss: 0.6088 - accuracy: 0.5658 - val_loss: 0.6931 - val_accuracy: 0.4975\n",
      "Epoch 87/100\n",
      "707/707 [==============================] - 74s 104ms/step - loss: 0.6097 - accuracy: 0.5648 - val_loss: 0.6931 - val_accuracy: 0.5025\n",
      "Epoch 88/100\n",
      "707/707 [==============================] - 74s 104ms/step - loss: 0.6093 - accuracy: 0.5647 - val_loss: 0.6932 - val_accuracy: 0.4975\n",
      "Epoch 89/100\n",
      "707/707 [==============================] - 74s 104ms/step - loss: 0.6089 - accuracy: 0.5653 - val_loss: 0.6931 - val_accuracy: 0.5025\n",
      "Epoch 90/100\n",
      "707/707 [==============================] - 74s 104ms/step - loss: 0.6096 - accuracy: 0.5664 - val_loss: 0.6932 - val_accuracy: 0.4975\n",
      "Epoch 91/100\n",
      "707/707 [==============================] - 74s 104ms/step - loss: 0.6090 - accuracy: 0.5657 - val_loss: 0.6931 - val_accuracy: 0.5025\n",
      "Epoch 92/100\n",
      "707/707 [==============================] - 74s 104ms/step - loss: 0.6092 - accuracy: 0.5663 - val_loss: 0.6931 - val_accuracy: 0.5025\n",
      "Epoch 93/100\n",
      "707/707 [==============================] - 74s 104ms/step - loss: 0.6090 - accuracy: 0.5651 - val_loss: 0.6931 - val_accuracy: 0.5025\n",
      "Epoch 94/100\n",
      "707/707 [==============================] - 74s 104ms/step - loss: 0.6088 - accuracy: 0.5657 - val_loss: 0.6932 - val_accuracy: 0.4975\n",
      "Epoch 95/100\n",
      "707/707 [==============================] - 74s 104ms/step - loss: 0.6087 - accuracy: 0.5642 - val_loss: 0.6932 - val_accuracy: 0.4975\n",
      "Epoch 96/100\n",
      "707/707 [==============================] - 74s 104ms/step - loss: 0.6086 - accuracy: 0.5650 - val_loss: 0.6931 - val_accuracy: 0.5025\n",
      "Epoch 97/100\n",
      "707/707 [==============================] - 74s 104ms/step - loss: 0.6082 - accuracy: 0.5655 - val_loss: 0.6931 - val_accuracy: 0.5025\n",
      "Epoch 98/100\n",
      "707/707 [==============================] - 74s 104ms/step - loss: 0.6089 - accuracy: 0.5660 - val_loss: 0.6931 - val_accuracy: 0.5025\n",
      "Epoch 99/100\n",
      "707/707 [==============================] - 74s 104ms/step - loss: 0.6083 - accuracy: 0.5664 - val_loss: 0.6931 - val_accuracy: 0.5025\n",
      "Epoch 100/100\n",
      "707/707 [==============================] - 74s 104ms/step - loss: 0.6085 - accuracy: 0.5651 - val_loss: 0.6931 - val_accuracy: 0.5025\n"
     ]
    }
   ],
   "source": [
    "with tf.device('/cpu:0'):\n",
    "    model.compile(loss='sparse_categorical_crossentropy', optimizer= 'adam',metrics=['accuracy'])\n",
    "    history = model.fit(train_x, train_y, epochs=epochsNumber, validation_split = 0.15, use_multiprocessing = False, batch_size=batchsize)"
   ]
  },
  {
   "cell_type": "markdown",
   "id": "35f7d3a4",
   "metadata": {},
   "source": [
    "### Plotando Acuracia Treino e Validação"
   ]
  },
  {
   "cell_type": "code",
   "execution_count": 19,
   "id": "8ab486d8",
   "metadata": {},
   "outputs": [
    {
     "data": {
      "image/png": "[encoded data removed]",
      "text/plain": [
       "<Figure size 432x288 with 1 Axes>"
      ]
     },
     "metadata": {
      "needs_background": "light"
     },
     "output_type": "display_data"
    }
   ],
   "source": [
    "plt.plot(history.history['accuracy'])\n",
    "plt.plot(history.history['val_accuracy'])\n",
    "plt.title('model accuracy')\n",
    "plt.ylabel('accuracy')\n",
    "plt.xlabel('epoch')\n",
    "plt.legend(['train', 'val'], loc='upper left')\n",
    "plt.show()"
   ]
  },
  {
   "cell_type": "markdown",
   "id": "a1ba5fc4",
   "metadata": {},
   "source": [
    "### Plotando o Loss - Treino e Validação"
   ]
  },
  {
   "cell_type": "code",
   "execution_count": 20,
   "id": "7e774545",
   "metadata": {},
   "outputs": [
    {
     "data": {
      "image/png": "[encoded data removed]",
      "text/plain": [
       "<Figure size 432x288 with 1 Axes>"
      ]
     },
     "metadata": {
      "needs_background": "light"
     },
     "output_type": "display_data"
    }
   ],
   "source": [
    "plt.plot(history.history['loss'])\n",
    "plt.plot(history.history['val_loss'])\n",
    "plt.title('model loss')\n",
    "plt.ylabel('loss')\n",
    "plt.xlabel('epoch')\n",
    "plt.legend(['train', 'val'], loc='upper left')\n",
    "plt.show()"
   ]
  },
  {
   "cell_type": "markdown",
   "id": "b13d0ffb",
   "metadata": {},
   "source": [
    "### Predict for test data "
   ]
  },
  {
   "cell_type": "code",
   "execution_count": 21,
   "id": "da49e3bd",
   "metadata": {},
   "outputs": [
    {
     "name": "stderr",
     "output_type": "stream",
     "text": [
      "2022-07-05 00:05:12.677654: I tensorflow/core/grappler/optimizers/custom_graph_optimizer_registry.cc:113] Plugin optimizer for device_type GPU is enabled.\n"
     ]
    },
    {
     "name": "stdout",
     "output_type": "stream",
     "text": [
      "12767/12767 [==============================] - 47s 4ms/step\n"
     ]
    }
   ],
   "source": [
    "with tf.device('/gpu:0'):\n",
    "    yTestPredicted = model.predict(test_x)\n",
    "    yTestPredicted = yTestPredicted[:,1]"
   ]
  },
  {
   "cell_type": "markdown",
   "id": "48509e19",
   "metadata": {},
   "source": [
    "### Calculate and display the error metrics"
   ]
  },
  {
   "cell_type": "code",
   "execution_count": 22,
   "id": "825341e4",
   "metadata": {},
   "outputs": [
    {
     "name": "stdout",
     "output_type": "stream",
     "text": [
      "Confusion matrix:\n",
      " [[244975    395]\n",
      " [149333  13833]]\n",
      "\n",
      "P-Score: 0.972, R-Score: 0.085, F-Score: 0.156\n"
     ]
    }
   ],
   "source": [
    "yTestPredicted = (yTestPredicted>0.6).astype(int)\n",
    "cMatrix = confusion_matrix(test_y, yTestPredicted)\n",
    "pScore = precision_score(test_y, yTestPredicted)\n",
    "rScore = recall_score(test_y, yTestPredicted)\n",
    "fScore = f1_score(test_y, yTestPredicted)\n",
    "\n",
    "print(\"Confusion matrix:\\n\", cMatrix)\n",
    "\n",
    "print(\"\\nP-Score: %.3f, R-Score: %.3f, F-Score: %.3f\" % (pScore, rScore, fScore))"
   ]
  },
  {
   "cell_type": "markdown",
   "id": "9ec55908",
   "metadata": {},
   "source": [
    "### contar Matriz e medir tempo de execucao"
   ]
  },
  {
   "cell_type": "code",
   "execution_count": 24,
   "id": "f4f4ae1a",
   "metadata": {},
   "outputs": [
    {
     "name": "stdout",
     "output_type": "stream",
     "text": [
      "Coqueiro: 163166 | Nao-Coqueiro: 245370\n",
      "O tempo de execucao foi: 0.3521561622619629\n"
     ]
    }
   ],
   "source": [
    "import time\n",
    "\n",
    "start_time = time.time()\n",
    "\n",
    "i = 0\n",
    "coqueiro = 0\n",
    "ncoqueiro = 0\n",
    "\n",
    "for i in range(len(test_y)):\n",
    "    if test_y[i] == 1:\n",
    "        coqueiro = coqueiro + 1 \n",
    "    else:\n",
    "        ncoqueiro = ncoqueiro + 1\n",
    "\n",
    "print(f'Coqueiro: {coqueiro} | Nao-Coqueiro: {ncoqueiro}')\n",
    "\n",
    "end_time = time.time()\n",
    "\n",
    "print(f'O tempo de execucao foi: {end_time-start_time}')\n",
    "        \n",
    "    "
   ]
  },
  {
   "cell_type": "markdown",
   "id": "bcb49b36",
   "metadata": {},
   "source": [
    "### Matriz confusão"
   ]
  },
  {
   "cell_type": "code",
   "execution_count": 25,
   "id": "25b862dd",
   "metadata": {},
   "outputs": [
    {
     "data": {
      "image/png": "[encoded data removed]",
      "text/plain": [
       "<Figure size 432x288 with 2 Axes>"
      ]
     },
     "metadata": {
      "needs_background": "light"
     },
     "output_type": "display_data"
    },
    {
     "data": {
      "image/png": "[encoded data removed]",
      "text/plain": [
       "<Figure size 432x288 with 2 Axes>"
      ]
     },
     "metadata": {
      "needs_background": "light"
     },
     "output_type": "display_data"
    }
   ],
   "source": [
    "disp = ConfusionMatrixDisplay(confusion_matrix=cMatrix, display_labels=['Não-coqueiro', 'coqueiro'])\n",
    "disp.plot(cmap=plt.cm.Blues)\n",
    "plt.show()\n",
    "\n",
    "cMatrixNormalized = cMatrix.astype('float') / cMatrix.sum(axis=1)[:, np.newaxis]\n",
    "disp2 = ConfusionMatrixDisplay(confusion_matrix=cMatrixNormalized, display_labels=['Não-coqueiro', 'coqueiro'])\n",
    "disp2.plot(cmap=plt.cm.Blues)\n",
    "plt.show()"
   ]
  },
  {
   "cell_type": "markdown",
   "id": "1ce1c682",
   "metadata": {},
   "source": [
    "### Save the model to use later"
   ]
  },
  {
   "cell_type": "code",
   "execution_count": 27,
   "id": "9bc1052d",
   "metadata": {},
   "outputs": [],
   "source": [
    "\n",
    "if not os.path.exists(os.path.join(os.getcwd(), trainedModelDir)):\n",
    "    os.mkdir(os.path.join(os.getcwd(), trainedModelDir))\n",
    "\n",
    "model.save(modelFile % (pScore, rScore, fScore)) "
   ]
  },
  {
   "cell_type": "markdown",
   "id": "02861b3c",
   "metadata": {},
   "source": [
    "# ------------------------------------------------\n",
    "# ---------(Predizendo novos dados)---------\n",
    "# ------------------------------------------------"
   ]
  },
  {
   "cell_type": "markdown",
   "id": "bd90c7eb",
   "metadata": {},
   "source": [
    "### Variáveis - Predizendo novos dados"
   ]
  },
  {
   "cell_type": "code",
   "execution_count": 28,
   "id": "14ade01b",
   "metadata": {},
   "outputs": [],
   "source": [
    "chipSize = 19\n",
    "new_features_dtype = 'float32'\n",
    "epochsNumber = 100\n",
    "trainedModelDir = '_trained_models_' + str(chipSize) + 'by' + str(chipSize) + '_' + str(epochsNumber) + 'Epochs'\n",
    "outFile = '2_ImagemVIG_predicted_' + str(chipSize) + 'x' + str(chipSize) + '_' + str(epochsNumber) + 'Epochs_' + new_features_dtype + '.tif'\n"
   ]
  },
  {
   "cell_type": "markdown",
   "id": "4a69b142",
   "metadata": {},
   "source": [
    "### Load the saved model"
   ]
  },
  {
   "cell_type": "code",
   "execution_count": 29,
   "id": "c71d68c4",
   "metadata": {
    "scrolled": true
   },
   "outputs": [],
   "source": [
    "model = tf.keras.models.load_model('/Users/luizramos/Repos/CNN - Deep Learning sensoreamento remoto/Data/2_trained_models_19by19_100Epochs_256batchsize/200409_CNN_Builtup_19by19_100Epochs_PScore0.972_RScore0.085_FScore0.156.h5')"
   ]
  },
  {
   "cell_type": "markdown",
   "id": "08debc0d",
   "metadata": {},
   "source": [
    "### Load a new multispectral image"
   ]
  },
  {
   "cell_type": "code",
   "execution_count": 30,
   "id": "65a8cb4a",
   "metadata": {},
   "outputs": [],
   "source": [
    "ds, featuresHyderabad = raster.read('/Users/luizramos/Repos/CNN - Deep Learning sensoreamento remoto/Data/ImagemVIG.tif')"
   ]
  },
  {
   "cell_type": "markdown",
   "id": "c1539ac8",
   "metadata": {},
   "source": [
    "### Generate image chips in the back-end"
   ]
  },
  {
   "cell_type": "code",
   "execution_count": 31,
   "id": "0f117874",
   "metadata": {},
   "outputs": [],
   "source": [
    "def CNNdataGenerator(mxBands, kSize):\n",
    "    mxBands = mxBands / 255.0\n",
    "    nBands, rows, cols = mxBands.shape\n",
    "    margin = math.floor(kSize/2)\n",
    "    mxBands = np.pad(mxBands, margin, mode='constant')[margin:-margin, :, :]\n",
    "\n",
    "    features = np.empty((rows*cols, kSize, kSize, nBands), dtype=new_features_dtype)\n",
    "\n",
    "    n = 0\n",
    "    for row in range(margin, rows+margin):\n",
    "        for col in range(margin, cols+margin):\n",
    "            feat = mxBands[:, row-margin:row+margin+1, col-margin:col+margin+1]\n",
    "\n",
    "            b1, b2, b3, b4 = feat\n",
    "            feat = np.dstack((b1, b2, b3, b4))\n",
    "\n",
    "            features[n, :, :, :] = feat\n",
    "            n += 1\n",
    "            \n",
    "    return(features)"
   ]
  },
  {
   "cell_type": "markdown",
   "id": "3d50da98",
   "metadata": {},
   "source": [
    "### Call the function to generate features tensor"
   ]
  },
  {
   "cell_type": "code",
   "execution_count": 32,
   "id": "8b370efd",
   "metadata": {},
   "outputs": [
    {
     "name": "stdout",
     "output_type": "stream",
     "text": [
      "Shape of the new features (3554838, 19, 19, 4)\n"
     ]
    }
   ],
   "source": [
    "new_features = CNNdataGenerator(featuresHyderabad, kSize=chipSize)\n",
    "print('Shape of the new features', new_features.shape)"
   ]
  },
  {
   "cell_type": "markdown",
   "id": "37451066",
   "metadata": {},
   "source": [
    "### Predict new data and export the probability raster"
   ]
  },
  {
   "cell_type": "code",
   "execution_count": 33,
   "id": "7623864a",
   "metadata": {},
   "outputs": [
    {
     "name": "stdout",
     "output_type": "stream",
     "text": [
      "2_ImagemVIG_predicted_19x19_100Epochs_float32.tif\n"
     ]
    }
   ],
   "source": [
    "print(outFile)"
   ]
  },
  {
   "cell_type": "code",
   "execution_count": 34,
   "id": "81f0e7fe",
   "metadata": {},
   "outputs": [
    {
     "name": "stdout",
     "output_type": "stream",
     "text": [
      "    37/111089 [..............................] - ETA: 7:52"
     ]
    },
    {
     "name": "stderr",
     "output_type": "stream",
     "text": [
      "2022-07-05 00:08:30.812551: I tensorflow/core/grappler/optimizers/custom_graph_optimizer_registry.cc:113] Plugin optimizer for device_type GPU is enabled.\n"
     ]
    },
    {
     "name": "stdout",
     "output_type": "stream",
     "text": [
      "111089/111089 [==============================] - 452s 4ms/step\n"
     ]
    }
   ],
   "source": [
    "with tf.device('/cpu:0'):\n",
    "    newPredicted = model.predict(new_features)\n",
    "    newPredicted = newPredicted[:,1]\n",
    "    prediction = np.reshape(newPredicted, (ds.RasterYSize, ds.RasterXSize))\n",
    "    raster.export(prediction, ds, filename=outFile, dtype=str(new_features.dtype))"
   ]
  },
  {
   "cell_type": "code",
   "execution_count": null,
   "id": "440eb0eb",
   "metadata": {},
   "outputs": [],
   "source": []
  }
 ],
 "metadata": {
  "kernelspec": {
   "display_name": "miniforge",
   "language": "python",
   "name": "miniforge"
  },
  "language_info": {
   "codemirror_mode": {
    "name": "ipython",
    "version": 3
   },
   "file_extension": ".py",
   "mimetype": "text/x-python",
   "name": "python",
   "nbconvert_exporter": "python",
   "pygments_lexer": "ipython3",
   "version": "3.9.7"
  }
 },
 "nbformat": 4,
 "nbformat_minor": 5
}
